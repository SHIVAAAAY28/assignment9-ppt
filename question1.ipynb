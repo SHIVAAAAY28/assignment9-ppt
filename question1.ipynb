{
 "cells": [
  {
   "cell_type": "code",
   "execution_count": null,
   "metadata": {},
   "outputs": [],
   "source": [
    "Given an integer `n`, return *`true` if it is a power of two. Otherwise, return `false`*.\n",
    "\n",
    "An integer `n` is a power of two, if there exists an integer `x` such that `n == 2x`.\n",
    "\n",
    "**Example 1:**\n",
    "Input: n = 1 \n",
    "\n",
    "Output: true\n",
    "\n",
    "**Example 2:**\n",
    "Input: n = 16 \n",
    "\n",
    "Output: true\n",
    "\n",
    "**Example 3:**\n",
    "Input: n = 3 \n",
    "\n",
    "Output: false"
   ]
  },
  {
   "cell_type": "code",
   "execution_count": 1,
   "metadata": {},
   "outputs": [
    {
     "name": "stdout",
     "output_type": "stream",
     "text": [
      "True\n",
      "True\n",
      "False\n"
     ]
    }
   ],
   "source": [
    "def isPowerOfTwo(n):\n",
    "    if n <= 0:\n",
    "        return False\n",
    "\n",
    "    while n % 2 == 0:\n",
    "        n //= 2\n",
    "\n",
    "    return n == 1\n",
    "\n",
    "print(isPowerOfTwo(1))  \n",
    "print(isPowerOfTwo(16))  \n",
    "print(isPowerOfTwo(3))  \n"
   ]
  },
  {
   "cell_type": "code",
   "execution_count": null,
   "metadata": {},
   "outputs": [],
   "source": []
  }
 ],
 "metadata": {
  "kernelspec": {
   "display_name": "Python 3",
   "language": "python",
   "name": "python3"
  },
  "language_info": {
   "codemirror_mode": {
    "name": "ipython",
    "version": 3
   },
   "file_extension": ".py",
   "mimetype": "text/x-python",
   "name": "python",
   "nbconvert_exporter": "python",
   "pygments_lexer": "ipython3",
   "version": "3.8.0"
  },
  "orig_nbformat": 4
 },
 "nbformat": 4,
 "nbformat_minor": 2
}
