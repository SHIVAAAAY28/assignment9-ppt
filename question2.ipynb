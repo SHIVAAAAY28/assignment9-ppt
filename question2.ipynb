{
 "cells": [
  {
   "cell_type": "code",
   "execution_count": null,
   "metadata": {},
   "outputs": [],
   "source": [
    "<aside>\n",
    "💡 **Question 2**\n",
    "\n",
    "Given a number n, find the sum of the first natural numbers.\n",
    "\n",
    "**Example 1:**\n",
    "\n",
    "Input: n = 3 \n",
    "\n",
    "Output: 6\n",
    "\n",
    "**Example 2:**\n",
    "\n",
    "Input  : 5 \n",
    "\n",
    "Output : 15\n",
    "\n",
    "</aside>"
   ]
  },
  {
   "cell_type": "code",
   "execution_count": 1,
   "metadata": {},
   "outputs": [
    {
     "name": "stdout",
     "output_type": "stream",
     "text": [
      "6\n",
      "15\n"
     ]
    }
   ],
   "source": [
    "def sumOfFirstN(n):\n",
    "    return (n * (n + 1)) // 2\n",
    "\n",
    "print(sumOfFirstN(3)) \n",
    "print(sumOfFirstN(5)) \n"
   ]
  },
  {
   "cell_type": "code",
   "execution_count": null,
   "metadata": {},
   "outputs": [],
   "source": []
  }
 ],
 "metadata": {
  "kernelspec": {
   "display_name": "Python 3",
   "language": "python",
   "name": "python3"
  },
  "language_info": {
   "codemirror_mode": {
    "name": "ipython",
    "version": 3
   },
   "file_extension": ".py",
   "mimetype": "text/x-python",
   "name": "python",
   "nbconvert_exporter": "python",
   "pygments_lexer": "ipython3",
   "version": "3.8.0"
  },
  "orig_nbformat": 4
 },
 "nbformat": 4,
 "nbformat_minor": 2
}
